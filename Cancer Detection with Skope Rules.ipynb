{
 "cells": [
  {
   "cell_type": "code",
   "execution_count": 1,
   "metadata": {},
   "outputs": [
    {
     "data": {
      "text/plain": [
       "diagnosis\n",
       "B    357\n",
       "M    212\n",
       "dtype: int64"
      ]
     },
     "execution_count": 1,
     "metadata": {},
     "output_type": "execute_result"
    }
   ],
   "source": [
    "import numpy as np # linear algebra\n",
    "import pandas as pd # data processing, CSV file I/O (e.g. pd.read_csv)\n",
    "\n",
    "dataset = pd.read_csv(\"data.csv\")\n",
    "dataset[['diagnosis']].groupby('diagnosis').size()"
   ]
  },
  {
   "cell_type": "code",
   "execution_count": 2,
   "metadata": {},
   "outputs": [
    {
     "name": "stdout",
     "output_type": "stream",
     "text": [
      " Training data set :  (455, 33) \n",
      " Evalutation data set :  (114, 33)\n"
     ]
    }
   ],
   "source": [
    "from sklearn.model_selection import train_test_split\n",
    "trainingDataSet, evaluationDataSet = train_test_split(dataset, test_size = 0.2)\n",
    "print(\n",
    "    \" Training data set : \",\n",
    "     trainingDataSet.shape,\n",
    "     \"\\n\",\n",
    "    \"Evalutation data set : \",\n",
    "    evaluationDataSet.shape\n",
    ")"
   ]
  },
  {
   "cell_type": "code",
   "execution_count": 14,
   "metadata": {},
   "outputs": [],
   "source": [
    "evaluationDataSetCopy = evaluationDataSet.copy()\n",
    "trainingDataSetCopy = trainingDataSet.copy()\n",
    "#trainingDataSetLabels = classifier.fit(trainingDataSet['diagnosis'])\n",
    "trainingDataSetLabels = trainingDataSet[['diagnosis']];\n",
    "evaluationDataSetLabels = evaluationDataSet[['diagnosis']]\n",
    "\n",
    "evaluationDataSetCopy.pop('id')\n",
    "evaluationDataSetCopy.pop('diagnosis')\n",
    "evaluationDataSetCopy.pop('Unnamed: 32')\n",
    "\n",
    "trainingDataSetCopy.pop('id')\n",
    "trainingDataSetCopy.pop('diagnosis')\n",
    "trainingDataSetCopy.pop('Unnamed: 32')\n",
    "\n",
    "\n",
    "\n",
    "trainingDataSetUnlabeled = trainingDataSetCopy\n",
    "evaluationDataSetUnlabeled = evaluationDataSetCopy;"
   ]
  },
  {
   "cell_type": "code",
   "execution_count": 5,
   "metadata": {},
   "outputs": [
    {
     "name": "stdout",
     "output_type": "stream",
     "text": [
      "<class 'pandas.core.frame.DataFrame'>\n",
      "Int64Index: 455 entries, 255 to 417\n",
      "Data columns (total 30 columns):\n",
      "radius_mean                455 non-null float64\n",
      "texture_mean               455 non-null float64\n",
      "perimeter_mean             455 non-null float64\n",
      "area_mean                  455 non-null float64\n",
      "smoothness_mean            455 non-null float64\n",
      "compactness_mean           455 non-null float64\n",
      "concavity_mean             455 non-null float64\n",
      "concave points_mean        455 non-null float64\n",
      "symmetry_mean              455 non-null float64\n",
      "fractal_dimension_mean     455 non-null float64\n",
      "radius_se                  455 non-null float64\n",
      "texture_se                 455 non-null float64\n",
      "perimeter_se               455 non-null float64\n",
      "area_se                    455 non-null float64\n",
      "smoothness_se              455 non-null float64\n",
      "compactness_se             455 non-null float64\n",
      "concavity_se               455 non-null float64\n",
      "concave points_se          455 non-null float64\n",
      "symmetry_se                455 non-null float64\n",
      "fractal_dimension_se       455 non-null float64\n",
      "radius_worst               455 non-null float64\n",
      "texture_worst              455 non-null float64\n",
      "perimeter_worst            455 non-null float64\n",
      "area_worst                 455 non-null float64\n",
      "smoothness_worst           455 non-null float64\n",
      "compactness_worst          455 non-null float64\n",
      "concavity_worst            455 non-null float64\n",
      "concave points_worst       455 non-null float64\n",
      "symmetry_worst             455 non-null float64\n",
      "fractal_dimension_worst    455 non-null float64\n",
      "dtypes: float64(30)\n",
      "memory usage: 110.2 KB\n"
     ]
    }
   ],
   "source": [
    "trainingDataSetUnlabeled.info()"
   ]
  },
  {
   "cell_type": "code",
   "execution_count": 6,
   "metadata": {},
   "outputs": [
    {
     "name": "stdout",
     "output_type": "stream",
     "text": [
      "<class 'pandas.core.frame.DataFrame'>\n",
      "Int64Index: 455 entries, 255 to 417\n",
      "Data columns (total 1 columns):\n",
      "diagnosis    455 non-null object\n",
      "dtypes: object(1)\n",
      "memory usage: 7.1+ KB\n"
     ]
    }
   ],
   "source": [
    "trainingDataSetLabels.info()"
   ]
  },
  {
   "cell_type": "code",
   "execution_count": 9,
   "metadata": {},
   "outputs": [],
   "source": [
    "from sklearn import preprocessing\n",
    "le = preprocessing.LabelEncoder()\n",
    "le.fit(trainingDataSetLabels)\n",
    "trainingDataSetLabels=le.transform(trainingDataSetLabels)"
   ]
  },
  {
   "cell_type": "code",
   "execution_count": 15,
   "metadata": {},
   "outputs": [
    {
     "name": "stderr",
     "output_type": "stream",
     "text": [
      "C:\\Users\\kopparapu\\AppData\\Local\\Continuum\\anaconda3\\lib\\site-packages\\sklearn\\preprocessing\\label.py:219: DataConversionWarning: A column-vector y was passed when a 1d array was expected. Please change the shape of y to (n_samples, ), for example using ravel().\n",
      "  y = column_or_1d(y, warn=True)\n",
      "C:\\Users\\kopparapu\\AppData\\Local\\Continuum\\anaconda3\\lib\\site-packages\\sklearn\\preprocessing\\label.py:252: DataConversionWarning: A column-vector y was passed when a 1d array was expected. Please change the shape of y to (n_samples, ), for example using ravel().\n",
      "  y = column_or_1d(y, warn=True)\n"
     ]
    }
   ],
   "source": [
    "from sklearn import preprocessing\n",
    "le = preprocessing.LabelEncoder()\n",
    "le.fit(evaluationDataSetLabels)\n",
    "evaluationDataSetLabels=le.transform(evaluationDataSetLabels)\n"
   ]
  },
  {
   "cell_type": "code",
   "execution_count": 10,
   "metadata": {},
   "outputs": [
    {
     "data": {
      "text/plain": [
       "SkopeRules(bootstrap=False, bootstrap_features=False, feature_names=None,\n",
       "           max_depth=3, max_depth_duplication=None, max_features=1.0,\n",
       "           max_samples=0.8, max_samples_features=1.0, min_samples_split=2,\n",
       "           n_estimators=10, n_jobs=1, precision_min=0.5,\n",
       "           random_state=<module 'numpy.random' from 'C:\\\\Users\\\\kopparapu\\\\AppData\\\\Local\\\\Continuum\\\\anaconda3\\\\lib\\\\site-packages\\\\numpy\\\\random\\\\__init__.py'>,\n",
       "           recall_min=0.01, verbose=0)"
      ]
     },
     "execution_count": 10,
     "metadata": {},
     "output_type": "execute_result"
    }
   ],
   "source": [
    "import numpy as np\n",
    "import matplotlib.pyplot as plt\n",
    "from skrules import SkopeRules\n",
    "clf = SkopeRules(random_state=np.random, n_estimators=10)\n",
    "clf.fit(trainingDataSetUnlabeled, trainingDataSetLabels)"
   ]
  },
  {
   "cell_type": "code",
   "execution_count": 12,
   "metadata": {},
   "outputs": [
    {
     "name": "stdout",
     "output_type": "stream",
     "text": [
      "The 4 most precise rules are the following:\n",
      "__C__12 > 1.5399999618530273 and __C__16 <= 0.13565000146627426 and __C__27 > 0.1423499956727028\n",
      "__C__23 > 710.2000122070312 and __C__26 > 0.2248000055551529 and __C__7 > 0.04891999997198582\n",
      "__C__1 > 14.119999885559082 and __C__22 > 105.95000076293945 and __C__7 > 0.0467349998652935\n",
      "__C__13 > 18.335000038146973 and __C__2 > 76.97999954223633 and __C__27 > 0.13580000400543213\n"
     ]
    }
   ],
   "source": [
    "print('The 4 most precise rules are the following:')\n",
    "for rule in clf.rules_[:4]:\n",
    "    print(rule[0])"
   ]
  },
  {
   "cell_type": "code",
   "execution_count": 26,
   "metadata": {},
   "outputs": [
    {
     "name": "stdout",
     "output_type": "stream",
     "text": [
      "52 rules have been built.\n",
      "The 5 most precise rules are the following:\n",
      "__C__12 > 1.5399999618530273 and __C__16 <= 0.13565000146627426 and __C__27 > 0.1423499956727028\n",
      "__C__23 > 710.2000122070312 and __C__26 > 0.2248000055551529 and __C__7 > 0.04891999997198582\n",
      "__C__1 > 14.119999885559082 and __C__22 > 105.95000076293945 and __C__7 > 0.0467349998652935\n",
      "__C__13 > 18.335000038146973 and __C__2 > 76.97999954223633 and __C__27 > 0.13580000400543213\n",
      "__C__12 > 1.3974999785423279 and __C__22 > 108.25 and __C__7 > 0.0467349998652935\n"
     ]
    }
   ],
   "source": [
    "scoring = clf.score_top_rules(evaluationDataSetUnlabeled)\n",
    "#scoring_rf = clf.predict_proba(evaluationDataSetUnlabeled)\n",
    "print(str(len(clf.rules_)) + ' rules have been built.')\n",
    "print('The 5 most precise rules are the following:')\n",
    "for rule in clf.rules_[:5]:\n",
    "    print(rule[0])"
   ]
  },
  {
   "cell_type": "code",
   "execution_count": 28,
   "metadata": {},
   "outputs": [
    {
     "name": "stdout",
     "output_type": "stream",
     "text": [
      "__C__12 > 1.5399999618530273 and __C__16 <= 0.13565000146627426 and __C__27 > 0.1423499956727028\n",
      "__C__23 > 710.2000122070312 and __C__26 > 0.2248000055551529 and __C__7 > 0.04891999997198582\n",
      "__C__1 > 14.119999885559082 and __C__22 > 105.95000076293945 and __C__7 > 0.0467349998652935\n",
      "__C__13 > 18.335000038146973 and __C__2 > 76.97999954223633 and __C__27 > 0.13580000400543213\n",
      "__C__12 > 1.3974999785423279 and __C__22 > 108.25 and __C__7 > 0.0467349998652935\n",
      "__C__0 > 10.405499935150146 and __C__13 > 13.474999904632568 and __C__27 > 0.14545000344514847\n",
      "__C__13 > 18.335000038146973 and __C__22 > 81.48500061035156 and __C__27 > 0.14545000344514847\n",
      "__C__13 > 13.474999904632568 and __C__27 > 0.14545000344514847 and __C__3 > 330.90000915527344\n",
      "__C__10 > 0.1918499991297722 and __C__22 > 105.95000076293945 and __C__7 > 0.04770500026643276\n",
      "__C__13 > 22.005000114440918 and __C__22 > 115.3499984741211 and __C__27 > 0.08502000197768211\n",
      "__C__20 > 15.410000324249268 and __C__26 > 0.21289999783039093 and __C__27 > 0.13580000400543213\n",
      "__C__1 > 15.015000343322754 and __C__22 > 107.20000076293945 and __C__7 > 0.039844999089837074\n",
      "__C__22 > 116.04999923706055\n",
      "__C__13 > 22.005000114440918 and __C__22 > 115.3499984741211 and __C__24 > 0.0879799984395504\n",
      "__C__1 > 16.049999713897705 and __C__20 > 16.795000076293945 and __C__24 > 0.0879799984395504\n",
      "__C__1 > 14.954999923706055 and __C__20 > 15.664999961853027 and __C__22 > 113.75\n",
      "__C__22 > 105.95000076293945 and __C__27 > 0.1454000025987625 and __C__4 > 0.08083999902009964\n",
      "__C__22 > 116.04999923706055 and __C__27 > 0.08808500319719315\n",
      "__C__20 > 15.394999980926514 and __C__22 > 106.0999984741211 and __C__27 > 0.13984999805688858\n",
      "__C__1 > 18.475000381469727 and __C__22 <= 116.04999923706055 and __C__27 > 0.1423499956727028\n",
      "__C__1 > 16.375 and __C__22 > 105.95000076293945 and __C__27 <= 0.1454000025987625\n",
      "__C__21 > 25.760000228881836 and __C__22 <= 113.75 and __C__27 > 0.13505000621080399\n",
      "__C__1 > 19.710000038146973 and __C__20 <= 16.795000076293945 and __C__27 > 0.13580000400543213\n",
      "__C__21 > 21.25 and __C__22 <= 116.04999923706055 and __C__22 > 105.95000076293945\n",
      "__C__23 > 957.4500122070312 and __C__27 <= 0.14545000344514847 and __C__27 > 0.08502000197768211\n",
      "__C__21 > 19.90999984741211 and __C__22 > 106.0999984741211 and __C__27 <= 0.13984999805688858\n",
      "__C__23 > 957.4500122070312 and __C__27 <= 0.1423499956727028 and __C__27 > 0.08502000197768211\n",
      "__C__21 > 24.605000495910645 and __C__22 <= 115.3499984741211 and __C__27 > 0.15630000084638596\n",
      "__C__23 > 957.4500122070312 and __C__24 > 0.09975999966263771 and __C__27 <= 0.14545000344514847\n",
      "__C__15 > 0.00834800023585558 and __C__23 > 949.8500061035156 and __C__27 <= 0.14545000344514847\n",
      "__C__20 > 17.22000026702881 and __C__21 > 19.90999984741211 and __C__27 <= 0.13580000400543213\n",
      "__C__21 > 26.21500015258789 and __C__22 <= 107.20000076293945 and __C__27 > 0.13505000621080399\n",
      "__C__21 > 23.47000026702881 and __C__22 <= 115.3499984741211 and __C__27 > 0.16125000268220901\n",
      "__C__20 > 17.479999542236328 and __C__26 > 0.190700002014637 and __C__27 <= 0.13580000400543213\n",
      "__C__22 <= 106.0999984741211 and __C__24 > 0.1772499978542328 and __C__29 > 0.09437999874353409\n",
      "__C__21 > 26.02999973297119 and __C__22 > 105.95000076293945 and __C__7 <= 0.04770500026643276\n",
      "__C__17 <= 0.010510500054806471 and __C__22 > 105.95000076293945 and __C__7 <= 0.0467349998652935\n",
      "__C__21 > 25.889999389648438 and __C__22 <= 105.95000076293945 and __C__27 > 0.13505000621080399\n",
      "__C__1 > 17.384999752044678 and __C__20 > 16.829999923706055 and __C__7 <= 0.04891999997198582\n",
      "__C__22 <= 105.95000076293945 and __C__24 > 0.1782499998807907 and __C__27 > 0.12494999915361404\n",
      "__C__20 <= 15.410000324249268 and __C__27 > 0.13580000400543213 and __C__4 > 0.10830000042915344\n",
      "__C__1 > 15.015000343322754 and __C__22 > 107.20000076293945 and __C__7 <= 0.039844999089837074\n",
      "__C__22 <= 108.25 and __C__22 > 97.15500259399414 and __C__27 > 0.16125000268220901\n",
      "__C__1 <= 16.049999713897705 and __C__16 > 0.03371500037610531 and __C__20 > 16.795000076293945\n",
      "__C__22 <= 115.3499984741211 and __C__23 > 889.8500061035156 and __C__27 <= 0.15630000084638596\n",
      "__C__22 > 108.25 and __C__28 > 0.31689999997615814 and __C__7 <= 0.0467349998652935\n",
      "__C__1 <= 15.015000343322754 and __C__22 > 107.20000076293945 and __C__6 > 0.17149999737739563\n",
      "__C__22 <= 105.95000076293945 and __C__27 > 0.1724499985575676 and __C__7 > 0.05371000058948994\n",
      "__C__22 <= 105.95000076293945 and __C__27 > 0.18074999749660492\n",
      "__C__1 <= 14.954999923706055 and __C__22 > 113.75 and __C__26 > 0.3609500080347061\n",
      "__C__22 <= 115.3499984741211 and __C__24 > 0.1782499998807907 and __C__27 <= 0.15630000084638596\n",
      "__C__22 <= 108.25 and __C__24 > 0.17870000004768372 and __C__27 <= 0.16125000268220901\n"
     ]
    }
   ],
   "source": [
    "for rule in clf.rules_:\n",
    "    print(rule[0])"
   ]
  },
  {
   "cell_type": "code",
   "execution_count": 22,
   "metadata": {},
   "outputs": [],
   "source": [
    "y_test=evaluationDataSetLabels"
   ]
  },
  {
   "cell_type": "code",
   "execution_count": 25,
   "metadata": {},
   "outputs": [
    {
     "name": "stdout",
     "output_type": "stream",
     "text": [
      "__C__12 > 1.5399999618530273 and __C__16 <= 0.13565000146627426 and __C__27 > 0.1423499956727028\n",
      "__C__23 > 710.2000122070312 and __C__26 > 0.2248000055551529 and __C__7 > 0.04891999997198582\n",
      "__C__1 > 14.119999885559082 and __C__22 > 105.95000076293945 and __C__7 > 0.0467349998652935\n",
      "__C__13 > 18.335000038146973 and __C__2 > 76.97999954223633 and __C__27 > 0.13580000400543213\n",
      "__C__12 > 1.3974999785423279 and __C__22 > 108.25 and __C__7 > 0.0467349998652935\n"
     ]
    },
    {
     "data": {
      "image/png": "[encoded data removed]",
      "text/plain": [
       "<Figure size 864x360 with 2 Axes>"
      ]
     },
     "metadata": {
      "needs_background": "light"
     },
     "output_type": "display_data"
    }
   ],
   "source": [
    "\n",
    "from sklearn.metrics import roc_curve, precision_recall_curve\n",
    "curves = [roc_curve, precision_recall_curve]\n",
    "xlabels = ['False Positive Rate', 'Recall (True Positive Rate)']\n",
    "ylabels = ['True Positive Rate (Recall)', 'Precision']\n",
    "fig, axes = plt.subplots(1, 2, figsize=(12, 5),\n",
    "sharex=True, sharey=True)\n",
    "ax = axes[0]\n",
    "fpr, tpr, _ = roc_curve(y_test, scoring)\n",
    "#fpr_rf, tpr_rf, _ = roc_curve(y_test, scoring_rf)\n",
    "ax.scatter(fpr[:-1], tpr[:-1], c='b', s=10, label=\"rules of SkopeRules\")\n",
    "#ax.step(fpr_RF, tpr_RF, linestyle='-.', c='g', lw=1, where='post',label=\"Random Forest\")\n",
    "ax.set_title(\"ROC\", fontsize=20)\n",
    "ax.legend(loc='upper center', fontsize=8)\n",
    "ax.set_xlabel('False Positive Rate', fontsize=18)\n",
    "ax.set_ylabel('True Positive Rate (Recall)', fontsize=18)\n",
    "ax = axes[1]\n",
    "precision, recall, _ = precision_recall_curve(y_test, scoring)\n",
    "#precision_rf, recall_rf, _ = precision_recall_curve(y_test, scoring_rf)\n",
    "ax.scatter(recall[1:-1], precision[1:-1], c='b', s=10,label=\"rules of SkopeRules\")\n",
    "#ax.step(recall_RF, precision_RF, linestyle='-.', c='g', lw=1, where='post',label=\"Random Forest\")\n",
    "ax.set_title(\"Precision-Recall\", fontsize=20)\n",
    "ax.set_xlabel('Recall (True Positive Rate)', fontsize=18)\n",
    "ax.set_ylabel('Precision', fontsize=18)\n",
    "plt.show()\n"
   ]
  },
  {
   "cell_type": "code",
   "execution_count": null,
   "metadata": {},
   "outputs": [],
   "source": []
  }
 ],
 "metadata": {
  "kernelspec": {
   "display_name": "Python 3",
   "language": "python",
   "name": "python3"
  },
  "language_info": {
   "codemirror_mode": {
    "name": "ipython",
    "version": 3
   },
   "file_extension": ".py",
   "mimetype": "text/x-python",
   "name": "python",
   "nbconvert_exporter": "python",
   "pygments_lexer": "ipython3",
   "version": "3.7.5"
  }
 },
 "nbformat": 4,
 "nbformat_minor": 2
}
